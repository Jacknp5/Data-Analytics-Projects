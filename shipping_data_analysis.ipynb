{
 "cells": [
  {
   "cell_type": "code",
   "execution_count": 1,
   "id": "fd903298-1c69-44e2-865e-cd8fad2d160e",
   "metadata": {},
   "outputs": [],
   "source": [
    "import pandas as pd\n",
    "import numpy as np\n",
    "# %matplotlib inline\n",
    "import seaborn as sns\n",
    "import matplotlib.pyplot as plt\n",
    "import os"
   ]
  },
  {
   "cell_type": "code",
   "execution_count": 2,
   "id": "bffe9db3-2f42-43b0-a73f-aa2664c07d27",
   "metadata": {},
   "outputs": [
    {
     "data": {
      "text/plain": [
       "' We are going to be analysing shipping sales data from a company operating multiple warehouses \\n    using multiple modes of shipment to deliver their products to customers.'"
      ]
     },
     "execution_count": 2,
     "metadata": {},
     "output_type": "execute_result"
    }
   ],
   "source": [
    "''' We are going to be analysing shipping sales data from a company operating multiple warehouses \n",
    "    using multiple modes of shipment to deliver their products to customers.'''"
   ]
  },
  {
   "cell_type": "code",
   "execution_count": 3,
   "id": "f924b1a6-f12f-470a-867a-a695617fc51c",
   "metadata": {},
   "outputs": [],
   "source": [
    "source = 'C:\\\\Users\\\\JACK\\\\Downloads\\\\JUPYTER NOTEBOOK FILES\\\\Datasets\\\\Shipping & Logistics'"
   ]
  },
  {
   "cell_type": "code",
   "execution_count": 4,
   "id": "f7887b6f-21a5-48cd-9fd5-6d076b25bda4",
   "metadata": {},
   "outputs": [],
   "source": [
    "shipping_data = 'shipping_data.csv'"
   ]
  },
  {
   "cell_type": "code",
   "execution_count": 5,
   "id": "512484b4-cbc0-4196-ba77-f2690d5a7c37",
   "metadata": {},
   "outputs": [],
   "source": [
    "os.chdir(source)"
   ]
  },
  {
   "cell_type": "code",
   "execution_count": 6,
   "id": "fa0c32ab-7a24-4112-8205-4a4bb76aed5f",
   "metadata": {},
   "outputs": [],
   "source": [
    "df = pd.read_csv(shipping_data)"
   ]
  },
  {
   "cell_type": "code",
   "execution_count": 7,
   "id": "c2faec5a-511e-4aae-beeb-838fadfb384d",
   "metadata": {},
   "outputs": [
    {
     "name": "stdout",
     "output_type": "stream",
     "text": [
      "<class 'pandas.core.frame.DataFrame'>\n",
      "RangeIndex: 10999 entries, 0 to 10998\n",
      "Data columns (total 12 columns):\n",
      " #   Column               Non-Null Count  Dtype \n",
      "---  ------               --------------  ----- \n",
      " 0   ID                   10999 non-null  int64 \n",
      " 1   Warehouse_block      10999 non-null  object\n",
      " 2   Mode_of_Shipment     10999 non-null  object\n",
      " 3   Customer_care_calls  10999 non-null  int64 \n",
      " 4   Customer_rating      10999 non-null  int64 \n",
      " 5   Cost_of_the_Product  10999 non-null  int64 \n",
      " 6   Prior_purchases      10999 non-null  int64 \n",
      " 7   Product_importance   10999 non-null  object\n",
      " 8   Gender               10999 non-null  object\n",
      " 9   Discount_offered     10999 non-null  int64 \n",
      " 10  Weight_in_gms        10999 non-null  int64 \n",
      " 11  Reached_on_Time      10999 non-null  int64 \n",
      "dtypes: int64(8), object(4)\n",
      "memory usage: 1.0+ MB\n"
     ]
    }
   ],
   "source": [
    "df.info()"
   ]
  },
  {
   "cell_type": "code",
   "execution_count": 8,
   "id": "e8b1bba2-54ab-4748-be93-44d30408406e",
   "metadata": {},
   "outputs": [
    {
     "data": {
      "text/html": [
       "<div>\n",
       "<style scoped>\n",
       "    .dataframe tbody tr th:only-of-type {\n",
       "        vertical-align: middle;\n",
       "    }\n",
       "\n",
       "    .dataframe tbody tr th {\n",
       "        vertical-align: top;\n",
       "    }\n",
       "\n",
       "    .dataframe thead th {\n",
       "        text-align: right;\n",
       "    }\n",
       "</style>\n",
       "<table border=\"1\" class=\"dataframe\">\n",
       "  <thead>\n",
       "    <tr style=\"text-align: right;\">\n",
       "      <th></th>\n",
       "      <th>ID</th>\n",
       "      <th>Warehouse_block</th>\n",
       "      <th>Mode_of_Shipment</th>\n",
       "      <th>Customer_care_calls</th>\n",
       "      <th>Customer_rating</th>\n",
       "      <th>Cost_of_the_Product</th>\n",
       "      <th>Prior_purchases</th>\n",
       "      <th>Product_importance</th>\n",
       "      <th>Gender</th>\n",
       "      <th>Discount_offered</th>\n",
       "      <th>Weight_in_gms</th>\n",
       "      <th>Reached_on_Time</th>\n",
       "    </tr>\n",
       "  </thead>\n",
       "  <tbody>\n",
       "    <tr>\n",
       "      <th>0</th>\n",
       "      <td>1</td>\n",
       "      <td>D</td>\n",
       "      <td>Flight</td>\n",
       "      <td>4</td>\n",
       "      <td>2</td>\n",
       "      <td>177</td>\n",
       "      <td>3</td>\n",
       "      <td>low</td>\n",
       "      <td>F</td>\n",
       "      <td>44</td>\n",
       "      <td>1233</td>\n",
       "      <td>1</td>\n",
       "    </tr>\n",
       "    <tr>\n",
       "      <th>1</th>\n",
       "      <td>2</td>\n",
       "      <td>F</td>\n",
       "      <td>Flight</td>\n",
       "      <td>4</td>\n",
       "      <td>5</td>\n",
       "      <td>216</td>\n",
       "      <td>2</td>\n",
       "      <td>low</td>\n",
       "      <td>M</td>\n",
       "      <td>59</td>\n",
       "      <td>3088</td>\n",
       "      <td>1</td>\n",
       "    </tr>\n",
       "    <tr>\n",
       "      <th>2</th>\n",
       "      <td>3</td>\n",
       "      <td>A</td>\n",
       "      <td>Flight</td>\n",
       "      <td>2</td>\n",
       "      <td>2</td>\n",
       "      <td>183</td>\n",
       "      <td>4</td>\n",
       "      <td>low</td>\n",
       "      <td>M</td>\n",
       "      <td>48</td>\n",
       "      <td>3374</td>\n",
       "      <td>1</td>\n",
       "    </tr>\n",
       "    <tr>\n",
       "      <th>3</th>\n",
       "      <td>4</td>\n",
       "      <td>B</td>\n",
       "      <td>Flight</td>\n",
       "      <td>3</td>\n",
       "      <td>3</td>\n",
       "      <td>176</td>\n",
       "      <td>4</td>\n",
       "      <td>medium</td>\n",
       "      <td>M</td>\n",
       "      <td>10</td>\n",
       "      <td>1177</td>\n",
       "      <td>1</td>\n",
       "    </tr>\n",
       "    <tr>\n",
       "      <th>4</th>\n",
       "      <td>5</td>\n",
       "      <td>C</td>\n",
       "      <td>Flight</td>\n",
       "      <td>2</td>\n",
       "      <td>2</td>\n",
       "      <td>184</td>\n",
       "      <td>3</td>\n",
       "      <td>medium</td>\n",
       "      <td>F</td>\n",
       "      <td>46</td>\n",
       "      <td>2484</td>\n",
       "      <td>1</td>\n",
       "    </tr>\n",
       "  </tbody>\n",
       "</table>\n",
       "</div>"
      ],
      "text/plain": [
       "   ID Warehouse_block Mode_of_Shipment  Customer_care_calls  Customer_rating  \\\n",
       "0   1               D           Flight                    4                2   \n",
       "1   2               F           Flight                    4                5   \n",
       "2   3               A           Flight                    2                2   \n",
       "3   4               B           Flight                    3                3   \n",
       "4   5               C           Flight                    2                2   \n",
       "\n",
       "   Cost_of_the_Product  Prior_purchases Product_importance Gender  \\\n",
       "0                  177                3                low      F   \n",
       "1                  216                2                low      M   \n",
       "2                  183                4                low      M   \n",
       "3                  176                4             medium      M   \n",
       "4                  184                3             medium      F   \n",
       "\n",
       "   Discount_offered  Weight_in_gms  Reached_on_Time  \n",
       "0                44           1233                1  \n",
       "1                59           3088                1  \n",
       "2                48           3374                1  \n",
       "3                10           1177                1  \n",
       "4                46           2484                1  "
      ]
     },
     "execution_count": 8,
     "metadata": {},
     "output_type": "execute_result"
    }
   ],
   "source": [
    "df.head()"
   ]
  },
  {
   "cell_type": "code",
   "execution_count": 9,
   "id": "daf3ed89-7de9-40ee-a3d2-83ae3bf0696a",
   "metadata": {},
   "outputs": [],
   "source": [
    "# we will calculate the total number of shipments made in the period under consideration\n",
    "total_shipments = df.shape[0]"
   ]
  },
  {
   "cell_type": "code",
   "execution_count": 10,
   "id": "d30bc634-2d96-4f18-ae2d-bcabd8c4c4db",
   "metadata": {},
   "outputs": [],
   "source": [
    "total_timely_deliveries = int(np.sum(df['Reached_on_Time'] == 1)) "
   ]
  },
  {
   "cell_type": "code",
   "execution_count": 11,
   "id": "248b1407-e168-4750-beaa-4e3aa598ea07",
   "metadata": {},
   "outputs": [
    {
     "data": {
      "text/plain": [
       "6563"
      ]
     },
     "execution_count": 11,
     "metadata": {},
     "output_type": "execute_result"
    }
   ],
   "source": [
    "total_timely_deliveries"
   ]
  },
  {
   "cell_type": "code",
   "execution_count": 12,
   "id": "dacff94f-9fa4-4d28-9a89-cb0fe4fb6582",
   "metadata": {},
   "outputs": [
    {
     "data": {
      "text/plain": [
       "' What is the percentage of total products delivered on time? '"
      ]
     },
     "execution_count": 12,
     "metadata": {},
     "output_type": "execute_result"
    }
   ],
   "source": [
    "''' What is the percentage of total products delivered on time? '''"
   ]
  },
  {
   "cell_type": "code",
   "execution_count": 13,
   "id": "35f054bf-fdc1-4e8b-8f1e-b84038820697",
   "metadata": {},
   "outputs": [],
   "source": [
    "percentage_timely_deliveries = round((total_timely_deliveries/total_shipments)*100, 3)"
   ]
  },
  {
   "cell_type": "code",
   "execution_count": 41,
   "id": "e48fb3b9-b449-4486-86ef-74268e96b9ac",
   "metadata": {},
   "outputs": [
    {
     "data": {
      "text/plain": [
       "59.669"
      ]
     },
     "execution_count": 41,
     "metadata": {},
     "output_type": "execute_result"
    }
   ],
   "source": [
    "percentage_timely_deliveries"
   ]
  },
  {
   "cell_type": "code",
   "execution_count": 42,
   "id": "332a134a-c74e-400c-93e0-bc744a072b54",
   "metadata": {},
   "outputs": [],
   "source": [
    "percentage_timely_deliveries_dict = dict(Total=100, On_Time=percentage_timely_deliveries)"
   ]
  },
  {
   "cell_type": "code",
   "execution_count": 44,
   "id": "cdd1293e-3fb2-437b-b2db-50f58099d0cc",
   "metadata": {},
   "outputs": [
    {
     "data": {
      "text/plain": [
       "[Text(0.5, 0, 'Deliveries'),\n",
       " Text(0, 0.5, 'Percentage of total (%)'),\n",
       " Text(0.5, 1.0, 'Percentage of shipments delivered on time')]"
      ]
     },
     "execution_count": 44,
     "metadata": {},
     "output_type": "execute_result"
    },
    {
     "data": {
      "image/png": "[encoded data removed]",
      "text/plain": [
       "<Figure size 640x480 with 1 Axes>"
      ]
     },
     "metadata": {},
     "output_type": "display_data"
    }
   ],
   "source": [
    "sns.barplot(data=percentage_timely_deliveries_dict, color='b').set(xlabel='Deliveries', ylabel='Percentage of total (%)',\\\n",
    "                                                                  title='Percentage of shipments delivered on time')"
   ]
  },
  {
   "cell_type": "code",
   "execution_count": 15,
   "id": "fd3c02f2-5958-491e-b534-8b1a4302c8d4",
   "metadata": {},
   "outputs": [
    {
     "data": {
      "text/plain": [
       "' Which warehouse block shipped the most products? '"
      ]
     },
     "execution_count": 15,
     "metadata": {},
     "output_type": "execute_result"
    }
   ],
   "source": [
    "''' Which warehouse block shipped the most products? '''"
   ]
  },
  {
   "cell_type": "code",
   "execution_count": 16,
   "id": "ee72faf0-9062-4582-9eba-96ade9b35429",
   "metadata": {},
   "outputs": [],
   "source": [
    "warehouse_blocks = df['Warehouse_block'].value_counts()"
   ]
  },
  {
   "cell_type": "code",
   "execution_count": 17,
   "id": "60ee10e2-4d86-4475-b544-0e16517bef2b",
   "metadata": {},
   "outputs": [
    {
     "data": {
      "text/plain": [
       "Warehouse_block\n",
       "F    3666\n",
       "D    1834\n",
       "A    1833\n",
       "B    1833\n",
       "C    1833\n",
       "Name: count, dtype: int64"
      ]
     },
     "execution_count": 17,
     "metadata": {},
     "output_type": "execute_result"
    }
   ],
   "source": [
    "warehouse_blocks"
   ]
  },
  {
   "cell_type": "code",
   "execution_count": 18,
   "id": "e2554b92-fb5e-4851-b289-1e6c48e55a4a",
   "metadata": {
    "scrolled": true
   },
   "outputs": [],
   "source": [
    "warehouse_blocks_dict = warehouse_blocks.to_dict()"
   ]
  },
  {
   "cell_type": "code",
   "execution_count": 19,
   "id": "4fcb3af2-d181-45e0-bdb2-3cd3721bb9b3",
   "metadata": {},
   "outputs": [
    {
     "data": {
      "text/plain": [
       "[Text(0.5, 0, 'Warehouse block'),\n",
       " Text(0, 0.5, 'Total shipments'),\n",
       " Text(0.5, 1.0, 'Total shipments from warehouse blocks')]"
      ]
     },
     "execution_count": 19,
     "metadata": {},
     "output_type": "execute_result"
    },
    {
     "data": {
      "image/png": "[encoded data removed]",
      "text/plain": [
       "<Figure size 640x480 with 1 Axes>"
      ]
     },
     "metadata": {},
     "output_type": "display_data"
    }
   ],
   "source": [
    "sns.barplot(data=warehouse_blocks, color='blue').set(xlabel='Warehouse block', ylabel='Total shipments',\\\n",
    "                                                    title='Total shipments from warehouse blocks')"
   ]
  },
  {
   "cell_type": "code",
   "execution_count": 20,
   "id": "4d793440-b0ab-4faf-a6c5-b03e4f430753",
   "metadata": {},
   "outputs": [
    {
     "data": {
      "text/plain": [
       "{'F': 3666, 'D': 1834, 'A': 1833, 'B': 1833, 'C': 1833}"
      ]
     },
     "execution_count": 20,
     "metadata": {},
     "output_type": "execute_result"
    }
   ],
   "source": [
    "warehouse_blocks_dict"
   ]
  },
  {
   "cell_type": "code",
   "execution_count": 21,
   "id": "bbc61a95-e183-4272-906d-af8d66020f93",
   "metadata": {},
   "outputs": [
    {
     "data": {
      "text/plain": [
       "' What was the most frequently used mode of shipment? '"
      ]
     },
     "execution_count": 21,
     "metadata": {},
     "output_type": "execute_result"
    }
   ],
   "source": [
    "''' What was the most frequently used mode of shipment? '''"
   ]
  },
  {
   "cell_type": "code",
   "execution_count": 22,
   "id": "122b0c4e-aba7-4a6f-8c66-8539b2e0e179",
   "metadata": {},
   "outputs": [],
   "source": [
    "modes_of_shipment = df['Mode_of_Shipment'].value_counts()"
   ]
  },
  {
   "cell_type": "code",
   "execution_count": 23,
   "id": "4e56e49e-8fe3-4ecf-9873-eed0f82110fe",
   "metadata": {},
   "outputs": [
    {
     "data": {
      "text/plain": [
       "Mode_of_Shipment\n",
       "Ship      7462\n",
       "Flight    1777\n",
       "Road      1760\n",
       "Name: count, dtype: int64"
      ]
     },
     "execution_count": 23,
     "metadata": {},
     "output_type": "execute_result"
    }
   ],
   "source": [
    "modes_of_shipment"
   ]
  },
  {
   "cell_type": "code",
   "execution_count": 24,
   "id": "f1467c4a-b2f9-4887-95c0-1810c9f172f2",
   "metadata": {},
   "outputs": [
    {
     "data": {
      "text/plain": [
       "[Text(0.5, 0, 'Mode of Shipment'),\n",
       " Text(0, 0.5, 'No of times used'),\n",
       " Text(0.5, 1.0, 'Most frequently used modes of shipment')]"
      ]
     },
     "execution_count": 24,
     "metadata": {},
     "output_type": "execute_result"
    },
    {
     "data": {
      "image/png": "[encoded data removed]",
      "text/plain": [
       "<Figure size 640x480 with 1 Axes>"
      ]
     },
     "metadata": {},
     "output_type": "display_data"
    }
   ],
   "source": [
    "sns.barplot(data=modes_of_shipment, color='purple').set(xlabel='Mode of Shipment', ylabel='No of times used',\\\n",
    "                                                       title='Most frequently used modes of shipment')"
   ]
  },
  {
   "cell_type": "code",
   "execution_count": 25,
   "id": "84853fdb-2704-4a80-bfe6-7106240a84ee",
   "metadata": {},
   "outputs": [
    {
     "data": {
      "text/plain": [
       "' What is the total weight of all products shipped? '"
      ]
     },
     "execution_count": 25,
     "metadata": {},
     "output_type": "execute_result"
    }
   ],
   "source": [
    "''' What is the total weight of all products shipped? '''"
   ]
  },
  {
   "cell_type": "code",
   "execution_count": 26,
   "id": "934f2ab0-5a88-42eb-87a6-c5556cbe3085",
   "metadata": {},
   "outputs": [],
   "source": [
    "total_shipment_weight_in_gms = df['Weight_in_gms'].sum()"
   ]
  },
  {
   "cell_type": "code",
   "execution_count": 27,
   "id": "49300075-7e2e-4f5a-b5ee-de474ddf9a49",
   "metadata": {},
   "outputs": [],
   "source": [
    "total_shipment_weight_in_tonnes = total_shipment_weight_in_gms/1000000"
   ]
  },
  {
   "cell_type": "code",
   "execution_count": 28,
   "id": "a20fe6a5-855d-4dba-9484-7c28c00b9705",
   "metadata": {},
   "outputs": [
    {
     "data": {
      "text/plain": [
       "np.float64(39.97055)"
      ]
     },
     "execution_count": 28,
     "metadata": {},
     "output_type": "execute_result"
    }
   ],
   "source": [
    "total_shipment_weight_in_tonnes"
   ]
  },
  {
   "cell_type": "code",
   "execution_count": 29,
   "id": "ea1f95be-e4e6-478b-8758-c61e4ace4ae9",
   "metadata": {},
   "outputs": [
    {
     "data": {
      "text/plain": [
       "' What is the total revenue from all shipped products? '"
      ]
     },
     "execution_count": 29,
     "metadata": {},
     "output_type": "execute_result"
    }
   ],
   "source": [
    "''' What is the total revenue from all shipped products? '''"
   ]
  },
  {
   "cell_type": "code",
   "execution_count": 30,
   "id": "440ef343-207b-4d0f-8832-ff446b38180d",
   "metadata": {},
   "outputs": [],
   "source": [
    "total_revenue = df['Cost_of_the_Product'].sum() - df['Discount_offered'].sum()"
   ]
  },
  {
   "cell_type": "code",
   "execution_count": 31,
   "id": "8431efa4-8999-455b-af18-e45dd074a36a",
   "metadata": {},
   "outputs": [
    {
     "data": {
      "text/plain": [
       "np.int64(2164863)"
      ]
     },
     "execution_count": 31,
     "metadata": {},
     "output_type": "execute_result"
    }
   ],
   "source": [
    "total_revenue"
   ]
  },
  {
   "cell_type": "code",
   "execution_count": 32,
   "id": "cec66b9b-4053-47e8-813f-ad0a1ea69f42",
   "metadata": {},
   "outputs": [
    {
     "name": "stdout",
     "output_type": "stream",
     "text": [
      " Total Revenue (USD) = 2,164,863.00\n"
     ]
    }
   ],
   "source": [
    "print(f' Total Revenue (USD) = {total_revenue:,.2f}')"
   ]
  },
  {
   "cell_type": "code",
   "execution_count": 33,
   "id": "73c71c69-1ccf-4e6f-b9f2-2e17a6fb4dc9",
   "metadata": {},
   "outputs": [],
   "source": [
    "warehouse_block_grouped = df.groupby('Warehouse_block')"
   ]
  },
  {
   "cell_type": "code",
   "execution_count": 34,
   "id": "f1e565bb-22cf-4503-bf44-690b64efc0e0",
   "metadata": {},
   "outputs": [
    {
     "data": {
      "text/plain": [
       "' Which warehouse block received the most customer care calls? '"
      ]
     },
     "execution_count": 34,
     "metadata": {},
     "output_type": "execute_result"
    }
   ],
   "source": [
    "''' Which warehouse block received the most customer care calls? '''"
   ]
  },
  {
   "cell_type": "code",
   "execution_count": 35,
   "id": "b01d5551-d88f-425b-8cb5-f7d261e6ec26",
   "metadata": {},
   "outputs": [],
   "source": [
    "block_A_customer_care_calls = np.sum(warehouse_block_grouped.get_group('A')['Customer_care_calls'])"
   ]
  },
  {
   "cell_type": "code",
   "execution_count": 36,
   "id": "d33147cf-5818-45d4-a63f-f6b509d99e29",
   "metadata": {},
   "outputs": [
    {
     "data": {
      "text/plain": [
       "np.int64(7402)"
      ]
     },
     "execution_count": 36,
     "metadata": {},
     "output_type": "execute_result"
    }
   ],
   "source": [
    "block_A_customer_care_calls"
   ]
  },
  {
   "cell_type": "code",
   "execution_count": 37,
   "id": "08b747ad-eefd-4bf4-950a-4b936301b5d2",
   "metadata": {},
   "outputs": [],
   "source": [
    "block_B_customer_care_calls = np.sum(warehouse_block_grouped.get_group('B')['Customer_care_calls'])"
   ]
  },
  {
   "cell_type": "code",
   "execution_count": 38,
   "id": "bede5200-9972-4f0c-985f-de30051dbe4b",
   "metadata": {},
   "outputs": [],
   "source": [
    "block_C_customer_care_calls = np.sum(warehouse_block_grouped.get_group('C')['Customer_care_calls'])"
   ]
  },
  {
   "cell_type": "code",
   "execution_count": 39,
   "id": "0d7a4d5d-a7df-4808-961a-fe03e3d8c4a7",
   "metadata": {},
   "outputs": [],
   "source": [
    "block_D_customer_care_calls = np.sum(warehouse_block_grouped.get_group('D')['Customer_care_calls'])"
   ]
  },
  {
   "cell_type": "code",
   "execution_count": 40,
   "id": "6f88c593-4402-4fcd-820d-94533adab6b0",
   "metadata": {},
   "outputs": [],
   "source": [
    "block_F_customer_care_calls = np.sum(warehouse_block_grouped.get_group('F')['Customer_care_calls'])"
   ]
  },
  {
   "cell_type": "code",
   "execution_count": 48,
   "id": "2d650578-9852-4419-b397-c9cb939d6318",
   "metadata": {},
   "outputs": [],
   "source": [
    "customer_care_calls_dict = dict(A=block_A_customer_care_calls, B=block_B_customer_care_calls, C=block_C_customer_care_calls,\\\n",
    "                                            D=block_D_customer_care_calls, F=block_F_customer_care_calls)"
   ]
  },
  {
   "cell_type": "code",
   "execution_count": 49,
   "id": "8b42b4ca-fbf2-49e6-930d-c01a7a99423f",
   "metadata": {},
   "outputs": [
    {
     "data": {
      "text/plain": [
       "{'A': np.int64(7402),\n",
       " 'B': np.int64(7369),\n",
       " 'C': np.int64(7451),\n",
       " 'D': np.int64(7434),\n",
       " 'F': np.int64(14939)}"
      ]
     },
     "execution_count": 49,
     "metadata": {},
     "output_type": "execute_result"
    }
   ],
   "source": [
    "customer_care_calls_dict"
   ]
  },
  {
   "cell_type": "code",
   "execution_count": 50,
   "id": "333c1aa8-4a37-4a88-bb72-706146f21982",
   "metadata": {},
   "outputs": [
    {
     "data": {
      "image/png": "[encoded data removed]",
      "text/plain": [
       "<Figure size 640x480 with 1 Axes>"
      ]
     },
     "metadata": {},
     "output_type": "display_data"
    }
   ],
   "source": [
    "bar_plot = sns.barplot(data=customer_care_calls_dict, color='blue').set(xlabel='Warehouse block', ylabel='Customer care calls',\\\n",
    "                                                                         title='Customer care calls received by warehouse blocks')"
   ]
  },
  {
   "cell_type": "code",
   "execution_count": 51,
   "id": "01a2b883-aef6-4f2c-9cfd-f43a96f31b72",
   "metadata": {},
   "outputs": [
    {
     "data": {
      "text/plain": [
       "' Which warehouse block shipped the most products of high importance?'"
      ]
     },
     "execution_count": 51,
     "metadata": {},
     "output_type": "execute_result"
    }
   ],
   "source": [
    "''' Which warehouse block shipped the most products of high importance?'''"
   ]
  },
  {
   "cell_type": "code",
   "execution_count": 52,
   "id": "1e9824d5-9a1b-4291-b900-13fc4e3593f5",
   "metadata": {},
   "outputs": [],
   "source": [
    "block_A_high_importance = np.sum(warehouse_block_grouped.get_group('A')['Product_importance'] == 'high')"
   ]
  },
  {
   "cell_type": "code",
   "execution_count": 53,
   "id": "b1d807d1-5cc0-4d41-bcf6-1e382db2dd01",
   "metadata": {},
   "outputs": [
    {
     "data": {
      "text/plain": [
       "np.int64(165)"
      ]
     },
     "execution_count": 53,
     "metadata": {},
     "output_type": "execute_result"
    }
   ],
   "source": [
    "block_A_high_importance"
   ]
  },
  {
   "cell_type": "code",
   "execution_count": 54,
   "id": "af1f5c7f-6ba6-4f2d-b099-f55b7b2e686b",
   "metadata": {},
   "outputs": [],
   "source": [
    "block_B_high_importance = np.sum(warehouse_block_grouped.get_group('B')['Product_importance'] == 'high')"
   ]
  },
  {
   "cell_type": "code",
   "execution_count": 55,
   "id": "514a5f9b-8642-4f35-81a2-0d615a4d22d7",
   "metadata": {},
   "outputs": [],
   "source": [
    "block_C_high_importance = np.sum(warehouse_block_grouped.get_group('C')['Product_importance'] == 'high')"
   ]
  },
  {
   "cell_type": "code",
   "execution_count": 56,
   "id": "2d0949da-bb90-4e9a-9496-34a440255434",
   "metadata": {},
   "outputs": [],
   "source": [
    "block_D_high_importance = np.sum(warehouse_block_grouped.get_group('D')['Product_importance'] == 'high')"
   ]
  },
  {
   "cell_type": "code",
   "execution_count": 57,
   "id": "feebcb78-b4e4-4be5-a323-5fc7bdea39f9",
   "metadata": {},
   "outputs": [],
   "source": [
    "block_F_high_importance = np.sum(warehouse_block_grouped.get_group('F')['Product_importance'] == 'high')"
   ]
  },
  {
   "cell_type": "code",
   "execution_count": 61,
   "id": "1589654a-bce3-4bd5-952b-a6f50f2b54f6",
   "metadata": {},
   "outputs": [],
   "source": [
    "high_importance_prods_dict = dict(A=block_A_high_importance, B=block_B_high_importance, C=block_C_high_importance,\\\n",
    "                                              D=block_D_high_importance, F=block_F_high_importance)"
   ]
  },
  {
   "cell_type": "code",
   "execution_count": 62,
   "id": "ae4f8e86-2b41-4704-87e6-7fbcf083c3f2",
   "metadata": {},
   "outputs": [
    {
     "data": {
      "text/plain": [
       "[Text(0.5, 0, 'Warehouse block'),\n",
       " Text(0, 0.5, 'High Importance Products'),\n",
       " Text(0.5, 1.0, 'Shipment of high importance products by warehouse blocks')]"
      ]
     },
     "execution_count": 62,
     "metadata": {},
     "output_type": "execute_result"
    },
    {
     "data": {
      "image/png": "[encoded data removed]",
      "text/plain": [
       "<Figure size 640x480 with 1 Axes>"
      ]
     },
     "metadata": {},
     "output_type": "display_data"
    }
   ],
   "source": [
    "sns.barplot(data=high_importance_prods_dict, color='red').set(xlabel='Warehouse block', ylabel='High Importance Products',\\\n",
    "                                                               title='Shipment of high importance products by warehouse blocks')"
   ]
  },
  {
   "cell_type": "code",
   "execution_count": 63,
   "id": "398b9e74-0940-45b2-b343-f9c4c213f3f7",
   "metadata": {},
   "outputs": [
    {
     "data": {
      "text/plain": [
       "' Which warehouse block shipped the most products of medium importance? '"
      ]
     },
     "execution_count": 63,
     "metadata": {},
     "output_type": "execute_result"
    }
   ],
   "source": [
    "''' Which warehouse block shipped the most products of medium importance? '''"
   ]
  },
  {
   "cell_type": "code",
   "execution_count": 64,
   "id": "ceb522e8-8b06-4dff-8dc8-f6da7f11efcb",
   "metadata": {},
   "outputs": [],
   "source": [
    "block_A_medium_importance = np.sum(warehouse_block_grouped.get_group('A')['Product_importance'] == 'medium')"
   ]
  },
  {
   "cell_type": "code",
   "execution_count": 65,
   "id": "6a8c0c0c-1fb8-4132-8d0e-9c061c1f6166",
   "metadata": {},
   "outputs": [],
   "source": [
    "block_B_medium_importance = np.sum(warehouse_block_grouped.get_group('B')['Product_importance'] == 'medium')"
   ]
  },
  {
   "cell_type": "code",
   "execution_count": 66,
   "id": "6ddf726b-9d12-4c2c-aed8-f1b8f7a90a11",
   "metadata": {},
   "outputs": [],
   "source": [
    "block_C_medium_importance = np.sum(warehouse_block_grouped.get_group('C')['Product_importance'] == 'medium')"
   ]
  },
  {
   "cell_type": "code",
   "execution_count": 67,
   "id": "ce592154-d767-4f14-a161-7351199e916c",
   "metadata": {},
   "outputs": [],
   "source": [
    "block_D_medium_importance = np.sum(warehouse_block_grouped.get_group('D')['Product_importance'] == 'medium')"
   ]
  },
  {
   "cell_type": "code",
   "execution_count": 68,
   "id": "8492a1a9-5b28-4c8a-bded-5ff0982f1dde",
   "metadata": {},
   "outputs": [],
   "source": [
    "block_F_medium_importance = np.sum(warehouse_block_grouped.get_group('F')['Product_importance'] == 'medium')"
   ]
  },
  {
   "cell_type": "code",
   "execution_count": 69,
   "id": "c7332faf-7d65-4016-a03c-31cb7476234c",
   "metadata": {},
   "outputs": [],
   "source": [
    "medium_importance_prods_dict = dict(A=block_A_medium_importance, B=block_B_medium_importance, C=block_C_medium_importance,\\\n",
    "                                              D=block_D_medium_importance, F=block_F_medium_importance)"
   ]
  },
  {
   "cell_type": "code",
   "execution_count": 70,
   "id": "bec03b06-dfc6-4ef4-8632-c4a9a9692731",
   "metadata": {},
   "outputs": [
    {
     "data": {
      "text/plain": [
       "[Text(0.5, 0, 'Warehouse block'),\n",
       " Text(0, 0.5, 'Medium Importance Products'),\n",
       " Text(0.5, 1.0, 'Shipment of medium importance products by warehouse blocks')]"
      ]
     },
     "execution_count": 70,
     "metadata": {},
     "output_type": "execute_result"
    },
    {
     "data": {
      "image/png": "[encoded data removed]",
      "text/plain": [
       "<Figure size 640x480 with 1 Axes>"
      ]
     },
     "metadata": {},
     "output_type": "display_data"
    }
   ],
   "source": [
    "sns.barplot(data=medium_importance_prods_dict, color='indigo').set(xlabel='Warehouse block', ylabel='Medium Importance Products',\\\n",
    "                                                                    title='Shipment of medium importance products by warehouse blocks')"
   ]
  },
  {
   "cell_type": "code",
   "execution_count": 71,
   "id": "82c50037-c670-4192-a1dc-a635f85eb069",
   "metadata": {},
   "outputs": [
    {
     "data": {
      "text/plain": [
       "' Which warehouse block shipped the most products of low importance? '"
      ]
     },
     "execution_count": 71,
     "metadata": {},
     "output_type": "execute_result"
    }
   ],
   "source": [
    "''' Which warehouse block shipped the most products of low importance? '''"
   ]
  },
  {
   "cell_type": "code",
   "execution_count": 72,
   "id": "f9ef1881-aea5-4af8-91a2-6f5158a5cb84",
   "metadata": {},
   "outputs": [],
   "source": [
    "block_A_low_importance = np.sum(warehouse_block_grouped.get_group('A')['Product_importance'] == 'low')"
   ]
  },
  {
   "cell_type": "code",
   "execution_count": 73,
   "id": "d2e193e9-327b-4e30-b1ef-331162191af8",
   "metadata": {},
   "outputs": [],
   "source": [
    "block_B_low_importance = np.sum(warehouse_block_grouped.get_group('B')['Product_importance'] == 'low')"
   ]
  },
  {
   "cell_type": "code",
   "execution_count": 74,
   "id": "6df417af-ed2a-4293-81b9-f6d6058a7435",
   "metadata": {},
   "outputs": [],
   "source": [
    "block_C_low_importance = np.sum(warehouse_block_grouped.get_group('C')['Product_importance'] == 'low')"
   ]
  },
  {
   "cell_type": "code",
   "execution_count": 75,
   "id": "590e7a04-e29d-4c23-9320-495fa26cd4a6",
   "metadata": {},
   "outputs": [],
   "source": [
    "block_D_low_importance = np.sum(warehouse_block_grouped.get_group('D')['Product_importance'] == 'low')"
   ]
  },
  {
   "cell_type": "code",
   "execution_count": 76,
   "id": "291e6038-825d-4656-b460-354b5e11615d",
   "metadata": {},
   "outputs": [],
   "source": [
    "block_F_low_importance = np.sum(warehouse_block_grouped.get_group('F')['Product_importance'] == 'low')"
   ]
  },
  {
   "cell_type": "code",
   "execution_count": 77,
   "id": "a1e57e91-9066-4d15-876d-04eda25724a5",
   "metadata": {},
   "outputs": [],
   "source": [
    "low_importance_prods_dict = dict(A=block_A_low_importance, B=block_B_low_importance, C=block_C_low_importance,\\\n",
    "                                              D=block_D_low_importance, F=block_F_low_importance)"
   ]
  },
  {
   "cell_type": "code",
   "execution_count": 78,
   "id": "6f86ab48-3abf-4720-892f-ccce9697e770",
   "metadata": {},
   "outputs": [
    {
     "data": {
      "text/plain": [
       "[Text(0.5, 0, 'Warehouse block'),\n",
       " Text(0, 0.5, 'Low Importance Products'),\n",
       " Text(0.5, 1.0, 'Shipment of low importance products by warehouse blocks')]"
      ]
     },
     "execution_count": 78,
     "metadata": {},
     "output_type": "execute_result"
    },
    {
     "data": {
      "image/png": "[encoded data removed]",
      "text/plain": [
       "<Figure size 640x480 with 1 Axes>"
      ]
     },
     "metadata": {},
     "output_type": "display_data"
    }
   ],
   "source": [
    "sns.barplot(data=low_importance_prods_dict, color='orange').set(xlabel='Warehouse block', ylabel='Low Importance Products',\\\n",
    "                                                                 title='Shipment of low importance products by warehouse blocks')"
   ]
  },
  {
   "cell_type": "code",
   "execution_count": 79,
   "id": "daf106ca-1f35-41ab-b720-1aff28f6ab4d",
   "metadata": {},
   "outputs": [
    {
     "data": {
      "text/plain": [
       "' Which warehouse block had the highest percentage of shipped products delivered on time ? '"
      ]
     },
     "execution_count": 79,
     "metadata": {},
     "output_type": "execute_result"
    }
   ],
   "source": [
    "''' Which warehouse block had the highest percentage of shipped products delivered on time ? '''"
   ]
  },
  {
   "cell_type": "code",
   "execution_count": 80,
   "id": "daacff27-aaba-4993-99dc-3d8a9dd55292",
   "metadata": {},
   "outputs": [],
   "source": [
    "total_block_A_shipments = warehouse_blocks_dict['A']"
   ]
  },
  {
   "cell_type": "code",
   "execution_count": 81,
   "id": "bfd99a2c-6949-42b0-be95-4389efb6447c",
   "metadata": {},
   "outputs": [
    {
     "data": {
      "text/plain": [
       "1833"
      ]
     },
     "execution_count": 81,
     "metadata": {},
     "output_type": "execute_result"
    }
   ],
   "source": [
    "total_block_A_shipments"
   ]
  },
  {
   "cell_type": "code",
   "execution_count": 82,
   "id": "6a1e28e8-ff25-4d24-a8e1-aad6c1662058",
   "metadata": {},
   "outputs": [],
   "source": [
    "total_block_B_shipments = warehouse_blocks_dict['B']"
   ]
  },
  {
   "cell_type": "code",
   "execution_count": 83,
   "id": "55deb92b-29e9-4d4f-ad6a-cd5fb92aea09",
   "metadata": {},
   "outputs": [],
   "source": [
    "total_block_C_shipments = warehouse_blocks_dict['C']"
   ]
  },
  {
   "cell_type": "code",
   "execution_count": 84,
   "id": "a46aaafb-1a9a-424a-aeb4-e76082ef20b1",
   "metadata": {},
   "outputs": [],
   "source": [
    "total_block_D_shipments = warehouse_blocks_dict['D']"
   ]
  },
  {
   "cell_type": "code",
   "execution_count": 85,
   "id": "4cb8e03d-4639-40c3-b63c-0f44c6d1312e",
   "metadata": {},
   "outputs": [],
   "source": [
    "total_block_F_shipments = warehouse_blocks_dict['F']"
   ]
  },
  {
   "cell_type": "code",
   "execution_count": 86,
   "id": "7d17b21b-ed1a-4491-925c-0dd929e65e8f",
   "metadata": {},
   "outputs": [],
   "source": [
    "block_A_reached_on_time = np.sum(warehouse_block_grouped.get_group('A')['Reached_on_Time'] == 1)"
   ]
  },
  {
   "cell_type": "code",
   "execution_count": 87,
   "id": "a7fcf7be-ba3e-4dec-8bbc-3e2cb5706784",
   "metadata": {},
   "outputs": [
    {
     "data": {
      "text/plain": [
       "np.int64(1075)"
      ]
     },
     "execution_count": 87,
     "metadata": {},
     "output_type": "execute_result"
    }
   ],
   "source": [
    "block_A_reached_on_time"
   ]
  },
  {
   "cell_type": "code",
   "execution_count": 88,
   "id": "03682551-9ef2-48f0-be4f-93a77528dde3",
   "metadata": {},
   "outputs": [],
   "source": [
    "percentage_block_A_reached_on_time = round((block_A_reached_on_time/total_block_A_shipments)*100, 3)"
   ]
  },
  {
   "cell_type": "code",
   "execution_count": 89,
   "id": "be819088-4c09-4320-b004-0f0859bedacf",
   "metadata": {},
   "outputs": [
    {
     "data": {
      "text/plain": [
       "np.float64(58.647)"
      ]
     },
     "execution_count": 89,
     "metadata": {},
     "output_type": "execute_result"
    }
   ],
   "source": [
    "percentage_block_A_reached_on_time"
   ]
  },
  {
   "cell_type": "code",
   "execution_count": 90,
   "id": "064319ea-b8c7-4999-a4bd-d7ae82a9bd29",
   "metadata": {},
   "outputs": [],
   "source": [
    "block_B_reached_on_time = np.sum(warehouse_block_grouped.get_group('B')['Reached_on_Time'] == 1)"
   ]
  },
  {
   "cell_type": "code",
   "execution_count": 91,
   "id": "31b9dacc-9b03-4d60-b003-20daa1f126eb",
   "metadata": {},
   "outputs": [],
   "source": [
    "percentage_block_B_reached_on_time = round((block_B_reached_on_time/total_block_B_shipments)*100, 3)"
   ]
  },
  {
   "cell_type": "code",
   "execution_count": 92,
   "id": "18558c95-2383-46a6-9991-ae7133620ca2",
   "metadata": {},
   "outputs": [],
   "source": [
    "block_C_reached_on_time = np.sum(warehouse_block_grouped.get_group('C')['Reached_on_Time'] == 1)"
   ]
  },
  {
   "cell_type": "code",
   "execution_count": 93,
   "id": "2010759c-b2ee-409a-932c-62c813649447",
   "metadata": {},
   "outputs": [],
   "source": [
    "percentage_block_C_reached_on_time = round((block_C_reached_on_time/total_block_C_shipments)*100, 3)"
   ]
  },
  {
   "cell_type": "code",
   "execution_count": 94,
   "id": "06d48f5e-02b7-4fba-9ebc-96e4586b5f7d",
   "metadata": {},
   "outputs": [],
   "source": [
    "block_D_reached_on_time = np.sum(warehouse_block_grouped.get_group('D')['Reached_on_Time'] == 1)"
   ]
  },
  {
   "cell_type": "code",
   "execution_count": 95,
   "id": "fa24fd1b-5fc5-4508-b70c-2277755ff95b",
   "metadata": {},
   "outputs": [],
   "source": [
    "percentage_block_D_reached_on_time = round((block_D_reached_on_time/total_block_D_shipments)*100, 3)"
   ]
  },
  {
   "cell_type": "code",
   "execution_count": 96,
   "id": "1cf29b85-b0bc-4f8a-be6c-e792473f8da1",
   "metadata": {},
   "outputs": [],
   "source": [
    "block_F_reached_on_time = np.sum(warehouse_block_grouped.get_group('F')['Reached_on_Time'] == 1)"
   ]
  },
  {
   "cell_type": "code",
   "execution_count": 97,
   "id": "4405eda2-48a8-49df-bfd9-4a1528c6345d",
   "metadata": {},
   "outputs": [],
   "source": [
    "percentage_block_F_reached_on_time = round((block_F_reached_on_time/total_block_F_shipments)*100, 3)"
   ]
  },
  {
   "cell_type": "code",
   "execution_count": 98,
   "id": "b63929c0-fb71-41d6-b854-fe8a567e7004",
   "metadata": {},
   "outputs": [],
   "source": [
    "percentage_warehouse_reached_on_time_dict = dict(A=percentage_block_A_reached_on_time, B=percentage_block_B_reached_on_time,\\\n",
    "                                                             C=percentage_block_C_reached_on_time, D=percentage_block_D_reached_on_time,\\\n",
    "                                                             F=percentage_block_F_reached_on_time)"
   ]
  },
  {
   "cell_type": "code",
   "execution_count": 99,
   "id": "d0b47a5e-adfc-4a88-b0dc-98cd0da89629",
   "metadata": {},
   "outputs": [
    {
     "data": {
      "text/plain": [
       "[Text(0.5, 0, 'Warehouse block'),\n",
       " Text(0, 0.5, 'Percentage Timely Delivery'),\n",
       " Text(0.5, 1.0, 'Variation of timely product delivery across warehouse blocks')]"
      ]
     },
     "execution_count": 99,
     "metadata": {},
     "output_type": "execute_result"
    },
    {
     "data": {
      "image/png": "[encoded data removed]",
      "text/plain": [
       "<Figure size 640x480 with 1 Axes>"
      ]
     },
     "metadata": {},
     "output_type": "display_data"
    }
   ],
   "source": [
    "sns.barplot(data=percentage_warehouse_reached_on_time_dict, color='blue').set(xlabel='Warehouse block', ylabel='Percentage Timely Delivery',\\\n",
    "                                                                               title='Variation of timely product delivery across warehouse blocks')"
   ]
  },
  {
   "cell_type": "code",
   "execution_count": 100,
   "id": "4f7224c0-4446-4fb4-b1f1-11bb4875c13c",
   "metadata": {},
   "outputs": [
    {
     "data": {
      "text/plain": [
       "' What is the distribution of the different modes of shipment across the warehouse blocks? '"
      ]
     },
     "execution_count": 100,
     "metadata": {},
     "output_type": "execute_result"
    }
   ],
   "source": [
    "''' What is the distribution of the different modes of shipment across the warehouse blocks? '''"
   ]
  },
  {
   "cell_type": "code",
   "execution_count": 101,
   "id": "30a50db9-1ddb-49f1-a5a9-fbbf2a59959f",
   "metadata": {},
   "outputs": [],
   "source": [
    "block_A_modes_of_shipment = warehouse_block_grouped.get_group('A')['Mode_of_Shipment'].value_counts()"
   ]
  },
  {
   "cell_type": "code",
   "execution_count": 102,
   "id": "8d857870-7a04-47ed-9055-530075457a5e",
   "metadata": {},
   "outputs": [
    {
     "data": {
      "text/plain": [
       "Mode_of_Shipment\n",
       "Ship      1242\n",
       "Flight     297\n",
       "Road       294\n",
       "Name: count, dtype: int64"
      ]
     },
     "execution_count": 102,
     "metadata": {},
     "output_type": "execute_result"
    }
   ],
   "source": [
    "block_A_modes_of_shipment"
   ]
  },
  {
   "cell_type": "code",
   "execution_count": 103,
   "id": "b45f9062-9c7b-4fa1-a021-f6fd327a67d7",
   "metadata": {},
   "outputs": [],
   "source": [
    "block_B_modes_of_shipment = warehouse_block_grouped.get_group('B')['Mode_of_Shipment'].value_counts()"
   ]
  },
  {
   "cell_type": "code",
   "execution_count": 104,
   "id": "7ccbc756-23ea-4ca7-b200-149c7be3842b",
   "metadata": {},
   "outputs": [
    {
     "data": {
      "text/plain": [
       "Mode_of_Shipment\n",
       "Ship      1243\n",
       "Flight     296\n",
       "Road       294\n",
       "Name: count, dtype: int64"
      ]
     },
     "execution_count": 104,
     "metadata": {},
     "output_type": "execute_result"
    }
   ],
   "source": [
    "block_B_modes_of_shipment"
   ]
  },
  {
   "cell_type": "code",
   "execution_count": 105,
   "id": "56984566-280f-46b4-8cf6-d7a36b05e194",
   "metadata": {},
   "outputs": [],
   "source": [
    "block_C_modes_of_shipment = warehouse_block_grouped.get_group('C')['Mode_of_Shipment'].value_counts()"
   ]
  },
  {
   "cell_type": "code",
   "execution_count": 106,
   "id": "39eced38-a8cb-44e8-a2d1-0c50f0892dd9",
   "metadata": {},
   "outputs": [
    {
     "data": {
      "text/plain": [
       "Mode_of_Shipment\n",
       "Ship      1244\n",
       "Flight     295\n",
       "Road       294\n",
       "Name: count, dtype: int64"
      ]
     },
     "execution_count": 106,
     "metadata": {},
     "output_type": "execute_result"
    }
   ],
   "source": [
    "block_C_modes_of_shipment"
   ]
  },
  {
   "cell_type": "code",
   "execution_count": 107,
   "id": "cc1c5acf-8154-4165-902c-c07df2b5c728",
   "metadata": {},
   "outputs": [],
   "source": [
    "block_D_modes_of_shipment = warehouse_block_grouped.get_group('D')['Mode_of_Shipment'].value_counts()"
   ]
  },
  {
   "cell_type": "code",
   "execution_count": 108,
   "id": "d98523a0-e250-447f-874d-b2656101f818",
   "metadata": {},
   "outputs": [
    {
     "data": {
      "text/plain": [
       "Mode_of_Shipment\n",
       "Ship      1245\n",
       "Flight     297\n",
       "Road       292\n",
       "Name: count, dtype: int64"
      ]
     },
     "execution_count": 108,
     "metadata": {},
     "output_type": "execute_result"
    }
   ],
   "source": [
    "block_D_modes_of_shipment"
   ]
  },
  {
   "cell_type": "code",
   "execution_count": 109,
   "id": "3051c778-599a-474b-a94a-d83b3091c836",
   "metadata": {},
   "outputs": [],
   "source": [
    "block_F_modes_of_shipment = warehouse_block_grouped.get_group('F')['Mode_of_Shipment'].value_counts()"
   ]
  },
  {
   "cell_type": "code",
   "execution_count": 110,
   "id": "091aacc6-f530-4d91-bc1f-c09c7fa35b80",
   "metadata": {},
   "outputs": [
    {
     "data": {
      "text/plain": [
       "Mode_of_Shipment\n",
       "Ship      2488\n",
       "Flight     592\n",
       "Road       586\n",
       "Name: count, dtype: int64"
      ]
     },
     "execution_count": 110,
     "metadata": {},
     "output_type": "execute_result"
    }
   ],
   "source": [
    "block_F_modes_of_shipment"
   ]
  },
  {
   "cell_type": "code",
   "execution_count": 111,
   "id": "ea4aceea-ab1f-474d-8051-c4057183628c",
   "metadata": {},
   "outputs": [],
   "source": [
    "# We will need to group by 'mode of shipment' to answer the next set of questions"
   ]
  },
  {
   "cell_type": "code",
   "execution_count": 112,
   "id": "843f5429-1ff9-42e8-9e26-47f3cd9e6478",
   "metadata": {},
   "outputs": [],
   "source": [
    "mode_of_shipment_grouped = df.groupby('Mode_of_Shipment')"
   ]
  },
  {
   "cell_type": "code",
   "execution_count": 113,
   "id": "689524cc-e8f1-4501-9dff-870dbf21e2ad",
   "metadata": {},
   "outputs": [
    {
     "data": {
      "text/plain": [
       "' What mode of shipment was used the most to ship products of high importance? '"
      ]
     },
     "execution_count": 113,
     "metadata": {},
     "output_type": "execute_result"
    }
   ],
   "source": [
    "''' What mode of shipment was used the most to ship products of high importance? '''"
   ]
  },
  {
   "cell_type": "code",
   "execution_count": 114,
   "id": "fe5cf1f8-939d-46b3-97c3-96d96eb5eecf",
   "metadata": {},
   "outputs": [],
   "source": [
    "flight_mode_high_importance_prods = np.sum(mode_of_shipment_grouped.get_group('Flight')['Product_importance'] == 'high')"
   ]
  },
  {
   "cell_type": "code",
   "execution_count": 115,
   "id": "e0757bbc-b99a-4c7b-88ea-c9a1f7ba8e29",
   "metadata": {},
   "outputs": [
    {
     "data": {
      "text/plain": [
       "np.int64(163)"
      ]
     },
     "execution_count": 115,
     "metadata": {},
     "output_type": "execute_result"
    }
   ],
   "source": [
    "flight_mode_high_importance_prods"
   ]
  },
  {
   "cell_type": "code",
   "execution_count": 116,
   "id": "356c0d87-50de-4979-8e2a-f708b9d8b393",
   "metadata": {},
   "outputs": [],
   "source": [
    "ship_mode_high_importance_prods = np.sum(mode_of_shipment_grouped.get_group('Ship')['Product_importance'] == 'high')"
   ]
  },
  {
   "cell_type": "code",
   "execution_count": 117,
   "id": "8b3a82a8-6ed8-4587-aca7-f748fa1c77fc",
   "metadata": {},
   "outputs": [
    {
     "data": {
      "text/plain": [
       "np.int64(627)"
      ]
     },
     "execution_count": 117,
     "metadata": {},
     "output_type": "execute_result"
    }
   ],
   "source": [
    "ship_mode_high_importance_prods"
   ]
  },
  {
   "cell_type": "code",
   "execution_count": 118,
   "id": "b42ab0af-6a32-4853-a32e-8ceb0b881fe5",
   "metadata": {},
   "outputs": [],
   "source": [
    "road_mode_high_importance_prods = np.sum(mode_of_shipment_grouped.get_group('Road')['Product_importance'] == 'high')"
   ]
  },
  {
   "cell_type": "code",
   "execution_count": 119,
   "id": "a0cc2887-5950-4fb4-8163-fa0be29481cc",
   "metadata": {},
   "outputs": [
    {
     "data": {
      "text/plain": [
       "np.int64(158)"
      ]
     },
     "execution_count": 119,
     "metadata": {},
     "output_type": "execute_result"
    }
   ],
   "source": [
    "road_mode_high_importance_prods"
   ]
  },
  {
   "cell_type": "code",
   "execution_count": 120,
   "id": "d2a93a45-29bd-42aa-ad05-cd6c65de6e47",
   "metadata": {},
   "outputs": [],
   "source": [
    "mode_of_shipment_high_importance_dict = dict(Flight=flight_mode_high_importance_prods, Ship=ship_mode_high_importance_prods,\\\n",
    "                                                             Road=road_mode_high_importance_prods)"
   ]
  },
  {
   "cell_type": "code",
   "execution_count": 122,
   "id": "96c6d0ec-2753-4b1d-acf6-6407c61067dd",
   "metadata": {},
   "outputs": [
    {
     "data": {
      "text/plain": [
       "[Text(0.5, 0, 'Mode of Shipment'),\n",
       " Text(0, 0.5, 'Frequency'),\n",
       " Text(0.5, 1.0, 'Mode of shipment for high importance products')]"
      ]
     },
     "execution_count": 122,
     "metadata": {},
     "output_type": "execute_result"
    },
    {
     "data": {
      "image/png": "[encoded data removed]",
      "text/plain": [
       "<Figure size 640x480 with 1 Axes>"
      ]
     },
     "metadata": {},
     "output_type": "display_data"
    }
   ],
   "source": [
    "sns.barplot(data=mode_of_shipment_high_importance_dict, color='red').set(xlabel='Mode of Shipment', ylabel='Frequency',\\\n",
    "                                                                           title='Mode of shipment for high importance products')"
   ]
  },
  {
   "cell_type": "code",
   "execution_count": 123,
   "id": "07059952-c079-4346-8b11-4f3a1387a7b8",
   "metadata": {},
   "outputs": [
    {
     "data": {
      "text/plain": [
       "' What mode of shipment was used the most to ship products of medium importance? '"
      ]
     },
     "execution_count": 123,
     "metadata": {},
     "output_type": "execute_result"
    }
   ],
   "source": [
    "''' What mode of shipment was used the most to ship products of medium importance? '''"
   ]
  },
  {
   "cell_type": "code",
   "execution_count": 124,
   "id": "d8a8f5a0-fb5e-4567-a909-8a79ccb1a120",
   "metadata": {},
   "outputs": [],
   "source": [
    "flight_mode_medium_importance_prods = np.sum(mode_of_shipment_grouped.get_group('Flight')['Product_importance'] == 'medium')"
   ]
  },
  {
   "cell_type": "code",
   "execution_count": 125,
   "id": "65a85e9c-2f3f-415b-986b-f5d7e3f92074",
   "metadata": {},
   "outputs": [],
   "source": [
    "ship_mode_medium_importance_prods = np.sum(mode_of_shipment_grouped.get_group('Ship')['Product_importance'] == 'medium')"
   ]
  },
  {
   "cell_type": "code",
   "execution_count": 126,
   "id": "d390bcaf-c426-4368-a080-9fa64cb8a09a",
   "metadata": {},
   "outputs": [],
   "source": [
    "road_mode_medium_importance_prods = np.sum(mode_of_shipment_grouped.get_group('Road')['Product_importance'] == 'medium')"
   ]
  },
  {
   "cell_type": "code",
   "execution_count": 127,
   "id": "29dfd1c8-ddfb-4d70-b057-b947980c4da5",
   "metadata": {},
   "outputs": [],
   "source": [
    "mode_of_shipment_medium_importance_dict = pd.Series(dict(Flight=flight_mode_medium_importance_prods, Ship=ship_mode_medium_importance_prods,\\\n",
    "                                                             Road=road_mode_medium_importance_prods))"
   ]
  },
  {
   "cell_type": "code",
   "execution_count": 128,
   "id": "55e68447-c5ed-4279-9a06-1488577e2a7d",
   "metadata": {},
   "outputs": [
    {
     "data": {
      "text/plain": [
       "[Text(0.5, 0, 'Mode of Shipment'),\n",
       " Text(0, 0.5, 'Frequency'),\n",
       " Text(0.5, 1.0, 'Mode of shipment for medium importance products')]"
      ]
     },
     "execution_count": 128,
     "metadata": {},
     "output_type": "execute_result"
    },
    {
     "data": {
      "image/png": "[encoded data removed]",
      "text/plain": [
       "<Figure size 640x480 with 1 Axes>"
      ]
     },
     "metadata": {},
     "output_type": "display_data"
    }
   ],
   "source": [
    "sns.barplot(data=mode_of_shipment_medium_importance_dict, color='indigo').set(xlabel='Mode of Shipment', ylabel='Frequency',\\\n",
    "                                                                           title='Mode of shipment for medium importance products')"
   ]
  },
  {
   "cell_type": "code",
   "execution_count": 129,
   "id": "3a8ad4cf-3a98-47ab-8f81-f1e771373ca8",
   "metadata": {},
   "outputs": [
    {
     "data": {
      "text/plain": [
       "' What mode of shipment was used the most to ship products of medium importance? '"
      ]
     },
     "execution_count": 129,
     "metadata": {},
     "output_type": "execute_result"
    }
   ],
   "source": [
    "''' What mode of shipment was used the most to ship products of medium importance? '''"
   ]
  },
  {
   "cell_type": "code",
   "execution_count": 130,
   "id": "c7be45b5-5258-4f4a-b58b-6cbd531c1cf3",
   "metadata": {},
   "outputs": [],
   "source": [
    "flight_mode_low_importance_prods = np.sum(mode_of_shipment_grouped.get_group('Flight')['Product_importance'] == 'low')"
   ]
  },
  {
   "cell_type": "code",
   "execution_count": 131,
   "id": "1b37d668-6a11-48fb-b09e-fc209999d4b5",
   "metadata": {},
   "outputs": [],
   "source": [
    "ship_mode_low_importance_prods = np.sum(mode_of_shipment_grouped.get_group('Ship')['Product_importance'] == 'low')"
   ]
  },
  {
   "cell_type": "code",
   "execution_count": 132,
   "id": "c5d9d5ba-1cd4-4678-ad9c-af801f50f719",
   "metadata": {},
   "outputs": [],
   "source": [
    "road_mode_low_importance_prods = np.sum(mode_of_shipment_grouped.get_group('Road')['Product_importance'] == 'low')"
   ]
  },
  {
   "cell_type": "code",
   "execution_count": 133,
   "id": "421afcdd-de35-4bfc-ab2b-42444ea7c3a4",
   "metadata": {},
   "outputs": [],
   "source": [
    "mode_of_shipment_low_importance_dict = pd.Series(dict(Flight=flight_mode_low_importance_prods, Ship=ship_mode_low_importance_prods,\\\n",
    "                                                             Road=road_mode_low_importance_prods))"
   ]
  },
  {
   "cell_type": "code",
   "execution_count": 134,
   "id": "d9906cb7-e9e2-40ee-b111-ee6034b9100d",
   "metadata": {},
   "outputs": [
    {
     "data": {
      "text/plain": [
       "[Text(0.5, 0, 'Mode of Shipment'),\n",
       " Text(0, 0.5, 'Frequency'),\n",
       " Text(0.5, 1.0, 'Mode of shipment for low importance products')]"
      ]
     },
     "execution_count": 134,
     "metadata": {},
     "output_type": "execute_result"
    },
    {
     "data": {
      "image/png": "[encoded data removed]",
      "text/plain": [
       "<Figure size 640x480 with 1 Axes>"
      ]
     },
     "metadata": {},
     "output_type": "display_data"
    }
   ],
   "source": [
    "sns.barplot(data=mode_of_shipment_low_importance_dict, color='orange').set(xlabel='Mode of Shipment', ylabel='Frequency',\\\n",
    "                                                                             title='Mode of shipment for low importance products')"
   ]
  },
  {
   "cell_type": "code",
   "execution_count": 135,
   "id": "95e3eb94-bb16-4532-9fb9-8786d466c764",
   "metadata": {},
   "outputs": [
    {
     "data": {
      "text/plain": [
       "' What mode of shipment had the highest percentage of shipped products delivered on time? '"
      ]
     },
     "execution_count": 135,
     "metadata": {},
     "output_type": "execute_result"
    }
   ],
   "source": [
    "''' What mode of shipment had the highest percentage of shipped products delivered on time? '''"
   ]
  },
  {
   "cell_type": "code",
   "execution_count": 136,
   "id": "fa0fd600-9b59-461e-896c-d8b65d3cd360",
   "metadata": {},
   "outputs": [],
   "source": [
    "total_shipments_by_flight = modes_of_shipment['Flight']"
   ]
  },
  {
   "cell_type": "code",
   "execution_count": 137,
   "id": "787360ce-a149-4542-9fa8-eb72db503079",
   "metadata": {},
   "outputs": [],
   "source": [
    "total_shipments_by_ship = modes_of_shipment['Ship']"
   ]
  },
  {
   "cell_type": "code",
   "execution_count": 138,
   "id": "91af000b-76f1-4bfe-8c8f-899da1c51f41",
   "metadata": {},
   "outputs": [],
   "source": [
    "total_shipments_by_road = modes_of_shipment['Road']"
   ]
  },
  {
   "cell_type": "code",
   "execution_count": 139,
   "id": "2c10dded-ec8e-4f71-82ff-d45f08f0fb46",
   "metadata": {},
   "outputs": [],
   "source": [
    "prods_reached_on_time_flight = np.sum(mode_of_shipment_grouped.get_group('Flight')['Reached_on_Time'] == 1)"
   ]
  },
  {
   "cell_type": "code",
   "execution_count": 140,
   "id": "ae436d8e-6f34-4a39-9105-119e536b2720",
   "metadata": {},
   "outputs": [
    {
     "data": {
      "text/plain": [
       "np.int64(1069)"
      ]
     },
     "execution_count": 140,
     "metadata": {},
     "output_type": "execute_result"
    }
   ],
   "source": [
    "prods_reached_on_time_flight"
   ]
  },
  {
   "cell_type": "code",
   "execution_count": 141,
   "id": "b168330a-e9c5-4c37-a7b6-411d91796df3",
   "metadata": {},
   "outputs": [],
   "source": [
    "percentage_reached_on_time_flight = round((prods_reached_on_time_flight/total_shipments_by_flight)*100,3)"
   ]
  },
  {
   "cell_type": "code",
   "execution_count": 142,
   "id": "706463e6-5b6f-4879-ad1d-c14e0c9f86ef",
   "metadata": {},
   "outputs": [
    {
     "data": {
      "text/plain": [
       "np.float64(60.158)"
      ]
     },
     "execution_count": 142,
     "metadata": {},
     "output_type": "execute_result"
    }
   ],
   "source": [
    "percentage_reached_on_time_flight"
   ]
  },
  {
   "cell_type": "code",
   "execution_count": 143,
   "id": "33edbc96-7317-4563-9178-2c8cef23b82c",
   "metadata": {},
   "outputs": [],
   "source": [
    "prods_reached_on_time_ship = np.sum(mode_of_shipment_grouped.get_group('Ship')['Reached_on_Time'] == 1)"
   ]
  },
  {
   "cell_type": "code",
   "execution_count": 144,
   "id": "4507bdb5-2d08-48e5-a4a8-1711957d2032",
   "metadata": {},
   "outputs": [],
   "source": [
    "percentage_reached_on_time_ship = round((prods_reached_on_time_ship/total_shipments_by_ship)*100,3)"
   ]
  },
  {
   "cell_type": "code",
   "execution_count": 145,
   "id": "5d776d0f-b165-4e7a-a9fb-509215f46e92",
   "metadata": {},
   "outputs": [
    {
     "data": {
      "text/plain": [
       "np.float64(59.756)"
      ]
     },
     "execution_count": 145,
     "metadata": {},
     "output_type": "execute_result"
    }
   ],
   "source": [
    "percentage_reached_on_time_ship"
   ]
  },
  {
   "cell_type": "code",
   "execution_count": 146,
   "id": "073a9a91-a8be-4a15-a8c3-69a60c2bb976",
   "metadata": {},
   "outputs": [],
   "source": [
    "prods_reached_on_time_road = np.sum(mode_of_shipment_grouped.get_group('Road')['Reached_on_Time'] == 1)"
   ]
  },
  {
   "cell_type": "code",
   "execution_count": 147,
   "id": "e159d16d-ea66-43ea-b3c6-8ebbc48f8294",
   "metadata": {},
   "outputs": [],
   "source": [
    "percentage_reached_on_time_road = round((prods_reached_on_time_road/total_shipments_by_road)*100,3)"
   ]
  },
  {
   "cell_type": "code",
   "execution_count": 148,
   "id": "bcbb636c-0d0c-47f1-91ea-1150fad25574",
   "metadata": {},
   "outputs": [
    {
     "data": {
      "text/plain": [
       "np.float64(58.807)"
      ]
     },
     "execution_count": 148,
     "metadata": {},
     "output_type": "execute_result"
    }
   ],
   "source": [
    "percentage_reached_on_time_road"
   ]
  },
  {
   "cell_type": "code",
   "execution_count": 149,
   "id": "b2d00f74-bc23-4735-a581-80a6010d109f",
   "metadata": {},
   "outputs": [],
   "source": [
    "percentage_shipment_mode_reached_on_time_dict = dict(Flight=percentage_reached_on_time_flight, Ship=percentage_reached_on_time_ship,\\\n",
    "                                                             Road=percentage_reached_on_time_road)"
   ]
  },
  {
   "cell_type": "code",
   "execution_count": 150,
   "id": "a7d686f3-fcb8-402d-8f03-b995a8d09927",
   "metadata": {},
   "outputs": [
    {
     "data": {
      "text/plain": [
       "[Text(0.5, 0, 'Mode of Shipment'),\n",
       " Text(0, 0.5, 'Percentage Timely Delivery'),\n",
       " Text(0.5, 1.0, 'Variation of timely product delivery with mode of shipment')]"
      ]
     },
     "execution_count": 150,
     "metadata": {},
     "output_type": "execute_result"
    },
    {
     "data": {
      "image/png": "[encoded data removed]",
      "text/plain": [
       "<Figure size 640x480 with 1 Axes>"
      ]
     },
     "metadata": {},
     "output_type": "display_data"
    }
   ],
   "source": [
    "sns.barplot(data=percentage_shipment_mode_reached_on_time_dict, color='blue').set(xlabel='Mode of Shipment', ylabel='Percentage Timely Delivery',\\\n",
    "                                                                                   title='Variation of timely product delivery with mode of shipment')"
   ]
  },
  {
   "cell_type": "code",
   "execution_count": 151,
   "id": "437e395a-7b7c-435f-977a-33323f5ff5e6",
   "metadata": {},
   "outputs": [
    {
     "data": {
      "text/plain": [
       "\" What is the variation of product shipment based on customers' genders? \""
      ]
     },
     "execution_count": 151,
     "metadata": {},
     "output_type": "execute_result"
    }
   ],
   "source": [
    "''' What is the variation of product shipment based on customers' genders? '''"
   ]
  },
  {
   "cell_type": "code",
   "execution_count": 152,
   "id": "b1c66359-3d3d-40ec-a121-82e5ac88dd88",
   "metadata": {},
   "outputs": [],
   "source": [
    "total_shipments_for_males = np.sum(df['Gender'] == 'M')"
   ]
  },
  {
   "cell_type": "code",
   "execution_count": 153,
   "id": "c405d9ef-5982-43cd-8dda-7e8453f4ec0b",
   "metadata": {},
   "outputs": [
    {
     "data": {
      "text/plain": [
       "np.int64(5454)"
      ]
     },
     "execution_count": 153,
     "metadata": {},
     "output_type": "execute_result"
    }
   ],
   "source": [
    "total_shipments_for_males"
   ]
  },
  {
   "cell_type": "code",
   "execution_count": 154,
   "id": "fe684ba0-5f92-40f4-ba5c-9d79c26d55eb",
   "metadata": {},
   "outputs": [],
   "source": [
    "total_shipments_for_females = np.sum(df['Gender'] == 'F')"
   ]
  },
  {
   "cell_type": "code",
   "execution_count": 155,
   "id": "2f5d11f1-9707-41b3-a3b3-47e7447255ac",
   "metadata": {},
   "outputs": [
    {
     "data": {
      "text/plain": [
       "np.int64(5545)"
      ]
     },
     "execution_count": 155,
     "metadata": {},
     "output_type": "execute_result"
    }
   ],
   "source": [
    "total_shipments_for_females"
   ]
  },
  {
   "cell_type": "code",
   "execution_count": 156,
   "id": "c8aff79d-8a7a-4758-942f-e53af0165e11",
   "metadata": {},
   "outputs": [],
   "source": [
    "shipments_by_gender_series = pd.Series(dict(Male=total_shipments_for_males, Female=total_shipments_for_females))"
   ]
  },
  {
   "cell_type": "code",
   "execution_count": 157,
   "id": "56e41eb5-33b8-4d56-a435-e1ca30282e21",
   "metadata": {},
   "outputs": [
    {
     "data": {
      "text/plain": [
       "[Text(0.5, 0, 'Gender'),\n",
       " Text(0, 0.5, 'Total Shipments'),\n",
       " Text(0.5, 1.0, 'Variation of product shipments with gender')]"
      ]
     },
     "execution_count": 157,
     "metadata": {},
     "output_type": "execute_result"
    },
    {
     "data": {
      "image/png": "[encoded data removed]",
      "text/plain": [
       "<Figure size 640x480 with 1 Axes>"
      ]
     },
     "metadata": {},
     "output_type": "display_data"
    }
   ],
   "source": [
    "sns.barplot(data=shipments_by_gender_series, color='g').set(xlabel='Gender', ylabel='Total Shipments',\\\n",
    "                                                           title='Variation of product shipments with gender')"
   ]
  },
  {
   "cell_type": "code",
   "execution_count": 158,
   "id": "583803ec-7c1d-4060-8066-a31208b95628",
   "metadata": {},
   "outputs": [
    {
     "data": {
      "text/plain": [
       "' What is the distribution of customer care calls across the genders? '"
      ]
     },
     "execution_count": 158,
     "metadata": {},
     "output_type": "execute_result"
    }
   ],
   "source": [
    "''' What is the distribution of customer care calls across the genders? '''"
   ]
  },
  {
   "cell_type": "code",
   "execution_count": 159,
   "id": "ccfe391b-bb3b-47ce-9b62-5afb27f38670",
   "metadata": {},
   "outputs": [],
   "source": [
    "genders_grouped = df.groupby('Gender')"
   ]
  },
  {
   "cell_type": "code",
   "execution_count": 160,
   "id": "3cad3706-d06b-4bcf-b8d6-169c9f6b04ff",
   "metadata": {},
   "outputs": [],
   "source": [
    "customer_care_calls_males = genders_grouped.get_group('M')['Customer_care_calls'].sum()"
   ]
  },
  {
   "cell_type": "code",
   "execution_count": 161,
   "id": "83d28f80-0d6d-420a-ac7b-73d13cd29899",
   "metadata": {},
   "outputs": [
    {
     "data": {
      "text/plain": [
       "np.int64(22129)"
      ]
     },
     "execution_count": 161,
     "metadata": {},
     "output_type": "execute_result"
    }
   ],
   "source": [
    "customer_care_calls_males"
   ]
  },
  {
   "cell_type": "code",
   "execution_count": 162,
   "id": "a3d6aeba-2298-42a2-b1e8-78cf7f0a90ec",
   "metadata": {},
   "outputs": [],
   "source": [
    "customer_care_calls_females = genders_grouped.get_group('F')['Customer_care_calls'].sum()"
   ]
  },
  {
   "cell_type": "code",
   "execution_count": 163,
   "id": "6acc2f39-f40b-4482-a123-682924652724",
   "metadata": {},
   "outputs": [
    {
     "data": {
      "text/plain": [
       "np.int64(22466)"
      ]
     },
     "execution_count": 163,
     "metadata": {},
     "output_type": "execute_result"
    }
   ],
   "source": [
    "customer_care_calls_females"
   ]
  },
  {
   "cell_type": "code",
   "execution_count": 173,
   "id": "8293523a-e8d5-47f2-8ccc-b89cc5671506",
   "metadata": {},
   "outputs": [],
   "source": [
    "customer_care_calls_by_gender_dict = dict(Male=customer_care_calls_males, Female=customer_care_calls_females)"
   ]
  },
  {
   "cell_type": "code",
   "execution_count": 174,
   "id": "e312ac3f-053f-4617-a1f0-e3b7cccb0b6f",
   "metadata": {},
   "outputs": [
    {
     "data": {
      "text/plain": [
       "[Text(0.5, 0, 'Gender'),\n",
       " Text(0, 0.5, 'Customer care calls'),\n",
       " Text(0.5, 1.0, 'Variation of customer care calls with gender')]"
      ]
     },
     "execution_count": 174,
     "metadata": {},
     "output_type": "execute_result"
    },
    {
     "data": {
      "image/png": "[encoded data removed]",
      "text/plain": [
       "<Figure size 640x480 with 1 Axes>"
      ]
     },
     "metadata": {},
     "output_type": "display_data"
    }
   ],
   "source": [
    "sns.barplot(data=customer_care_calls_by_gender_dict, color='g').set(xlabel='Gender', ylabel='Customer care calls',\\\n",
    "                                                                     title='Variation of customer care calls with gender')"
   ]
  },
  {
   "cell_type": "code",
   "execution_count": 175,
   "id": "1e8991c3-b60b-4eb5-b98b-c0df189d1603",
   "metadata": {},
   "outputs": [
    {
     "data": {
      "text/plain": [
       "' How does revenue vary across the genders? '"
      ]
     },
     "execution_count": 175,
     "metadata": {},
     "output_type": "execute_result"
    }
   ],
   "source": [
    "''' How does revenue vary across the genders? '''"
   ]
  },
  {
   "cell_type": "code",
   "execution_count": 185,
   "id": "e48672dd-ec0f-4b86-8f05-b72da33d1fe4",
   "metadata": {},
   "outputs": [],
   "source": [
    "total_revenue_males = genders_grouped.get_group('M')['Cost_of_the_Product'].sum() - genders_grouped.get_group('M')['Discount_offered'].sum()"
   ]
  },
  {
   "cell_type": "code",
   "execution_count": 194,
   "id": "bc30d30a-8005-4e50-a362-95bccfd3949e",
   "metadata": {},
   "outputs": [
    {
     "data": {
      "text/plain": [
       "'1,079,748.00'"
      ]
     },
     "execution_count": 194,
     "metadata": {},
     "output_type": "execute_result"
    }
   ],
   "source": [
    "f'{total_revenue_males:,.2f}'"
   ]
  },
  {
   "cell_type": "code",
   "execution_count": 189,
   "id": "3ec92037-6e81-4605-8a69-0681e7768e89",
   "metadata": {},
   "outputs": [],
   "source": [
    "total_revenue_females = genders_grouped.get_group('F')['Cost_of_the_Product'].sum() - genders_grouped.get_group('F')['Discount_offered'].sum()"
   ]
  },
  {
   "cell_type": "code",
   "execution_count": 193,
   "id": "188cf5fa-a446-4622-98bf-c53b78393f5f",
   "metadata": {},
   "outputs": [
    {
     "data": {
      "text/plain": [
       "'1,085,115.00'"
      ]
     },
     "execution_count": 193,
     "metadata": {},
     "output_type": "execute_result"
    }
   ],
   "source": [
    "f'{total_revenue_females:,.2f}'"
   ]
  },
  {
   "cell_type": "code",
   "execution_count": 191,
   "id": "03db4850-db9c-45d8-9788-730d473f3021",
   "metadata": {},
   "outputs": [],
   "source": [
    "revenue_by_gender_dict = dict(Male=total_revenue_males, Female=total_revenue_females)"
   ]
  },
  {
   "cell_type": "code",
   "execution_count": 200,
   "id": "8359f66f-9a7c-427c-a8d6-3035e40e945e",
   "metadata": {},
   "outputs": [
    {
     "data": {
      "text/plain": [
       "[Text(0.5, 0, 'Gender'),\n",
       " Text(0, 0.5, 'Total Revenue'),\n",
       " Text(0.5, 1.0, 'Share of total revenue by gender')]"
      ]
     },
     "execution_count": 200,
     "metadata": {},
     "output_type": "execute_result"
    },
    {
     "data": {
      "image/png": "[encoded data removed]",
      "text/plain": [
       "<Figure size 640x480 with 1 Axes>"
      ]
     },
     "metadata": {},
     "output_type": "display_data"
    }
   ],
   "source": [
    "sns.barplot(data=revenue_by_gender_dict, color='g').set(xlabel='Gender', ylabel='Total Revenue',\\\n",
    "                                                         title='Share of total revenue by gender')"
   ]
  },
  {
   "cell_type": "code",
   "execution_count": 195,
   "id": "fb6fdac6-ca32-4900-8775-2cd174457faa",
   "metadata": {},
   "outputs": [
    {
     "data": {
      "text/plain": [
       "' What is the average revenue per weight of products shipped? '"
      ]
     },
     "execution_count": 195,
     "metadata": {},
     "output_type": "execute_result"
    }
   ],
   "source": [
    "''' What is the average revenue per weight of products shipped? '''"
   ]
  },
  {
   "cell_type": "code",
   "execution_count": 196,
   "id": "229d6eda-aada-421a-a46b-56c8d776dc34",
   "metadata": {},
   "outputs": [],
   "source": [
    "revenue_per_product_weight = total_revenue/total_shipment_weight_in_tonnes # -- dollars per tonne"
   ]
  },
  {
   "cell_type": "code",
   "execution_count": 197,
   "id": "13dfa369-9e32-4a0e-a402-c99553378b25",
   "metadata": {},
   "outputs": [
    {
     "data": {
      "text/plain": [
       "np.float64(54161.4513685701)"
      ]
     },
     "execution_count": 197,
     "metadata": {},
     "output_type": "execute_result"
    }
   ],
   "source": [
    "revenue_per_product_weight"
   ]
  },
  {
   "cell_type": "code",
   "execution_count": 198,
   "id": "d35e3a93-13a6-4c00-96b1-5b7ef0bcdd86",
   "metadata": {},
   "outputs": [],
   "source": [
    "revenue_per_weight_str = f'${revenue_per_product_weight:,.2f}'"
   ]
  },
  {
   "cell_type": "code",
   "execution_count": 201,
   "id": "aa424d66-7ccb-4128-be2a-047047ce1fa3",
   "metadata": {},
   "outputs": [
    {
     "data": {
      "text/plain": [
       "'$54,161.45'"
      ]
     },
     "execution_count": 201,
     "metadata": {},
     "output_type": "execute_result"
    }
   ],
   "source": [
    "revenue_per_weight_str"
   ]
  },
  {
   "cell_type": "code",
   "execution_count": 202,
   "id": "8d004d50-8cfe-4283-b250-d2b07c63cce2",
   "metadata": {},
   "outputs": [
    {
     "data": {
      "text/plain": [
       "' Which level of product importance (high, medium, or low) enjoyed the highest percentage discount? '"
      ]
     },
     "execution_count": 202,
     "metadata": {},
     "output_type": "execute_result"
    }
   ],
   "source": [
    "''' Which level of product importance (high, medium, or low) enjoyed the highest percentage discount? '''"
   ]
  },
  {
   "cell_type": "code",
   "execution_count": 203,
   "id": "83f78a9f-033f-40f5-a87f-eeacdcfbd1a4",
   "metadata": {},
   "outputs": [],
   "source": [
    "product_importance_grouped = df.groupby('Product_importance')"
   ]
  },
  {
   "cell_type": "code",
   "execution_count": 204,
   "id": "5daa3f6f-3271-4b4c-b489-c02d9acd9a31",
   "metadata": {},
   "outputs": [],
   "source": [
    "high_importance_prods_discounts = product_importance_grouped.get_group('high')['Discount_offered'].sum()"
   ]
  },
  {
   "cell_type": "code",
   "execution_count": 205,
   "id": "80febaa6-028b-4131-9063-e5193167080b",
   "metadata": {},
   "outputs": [],
   "source": [
    "high_importance_prods_revenue = product_importance_grouped.get_group('high')['Cost_of_the_Product'].sum()"
   ]
  },
  {
   "cell_type": "code",
   "execution_count": 206,
   "id": "754a5341-baf0-4720-8242-576cc47b88b4",
   "metadata": {},
   "outputs": [],
   "source": [
    "percentage_discount_high_importance = round((high_importance_prods_discounts/high_importance_prods_revenue)*100, 3)"
   ]
  },
  {
   "cell_type": "code",
   "execution_count": 207,
   "id": "b2217790-f003-4a08-99e7-f7ebdb05048b",
   "metadata": {},
   "outputs": [
    {
     "data": {
      "text/plain": [
       "np.float64(7.194)"
      ]
     },
     "execution_count": 207,
     "metadata": {},
     "output_type": "execute_result"
    }
   ],
   "source": [
    "percentage_discount_high_importance"
   ]
  },
  {
   "cell_type": "code",
   "execution_count": 208,
   "id": "92a9d896-ea03-49a2-b093-5f9463dd59ca",
   "metadata": {},
   "outputs": [],
   "source": [
    "medium_importance_prods_discounts = product_importance_grouped.get_group('medium')['Discount_offered'].sum()"
   ]
  },
  {
   "cell_type": "code",
   "execution_count": 209,
   "id": "2f2c4e21-4687-458e-8986-a283f15bea96",
   "metadata": {},
   "outputs": [],
   "source": [
    "medium_importance_prods_revenue = product_importance_grouped.get_group('medium')['Cost_of_the_Product'].sum()"
   ]
  },
  {
   "cell_type": "code",
   "execution_count": 210,
   "id": "0167c31a-1288-4918-806d-8eb7f5407356",
   "metadata": {},
   "outputs": [],
   "source": [
    "percentage_discount_medium_importance = round((medium_importance_prods_discounts/medium_importance_prods_revenue)*100, 3)"
   ]
  },
  {
   "cell_type": "code",
   "execution_count": 211,
   "id": "8cbd3c37-93df-4158-8dc8-effb1784cbc5",
   "metadata": {},
   "outputs": [
    {
     "data": {
      "text/plain": [
       "np.float64(6.439)"
      ]
     },
     "execution_count": 211,
     "metadata": {},
     "output_type": "execute_result"
    }
   ],
   "source": [
    "percentage_discount_medium_importance"
   ]
  },
  {
   "cell_type": "code",
   "execution_count": 212,
   "id": "becf4124-5d28-4283-885e-94393c02f91f",
   "metadata": {},
   "outputs": [],
   "source": [
    "low_importance_prods_discounts = product_importance_grouped.get_group('low')['Discount_offered'].sum()"
   ]
  },
  {
   "cell_type": "code",
   "execution_count": 213,
   "id": "0cf74b36-8d96-447d-8285-e24dcc7134df",
   "metadata": {},
   "outputs": [],
   "source": [
    "low_importance_prods_revenue = product_importance_grouped.get_group('low')['Cost_of_the_Product'].sum()"
   ]
  },
  {
   "cell_type": "code",
   "execution_count": 214,
   "id": "4ff6b565-e568-46dc-8192-e57848903589",
   "metadata": {},
   "outputs": [],
   "source": [
    "percentage_discount_low_importance = round((low_importance_prods_discounts/low_importance_prods_revenue)*100, 3)"
   ]
  },
  {
   "cell_type": "code",
   "execution_count": 215,
   "id": "a32c7c15-f7d5-4041-9244-4e4277857603",
   "metadata": {},
   "outputs": [
    {
     "data": {
      "text/plain": [
       "np.float64(6.151)"
      ]
     },
     "execution_count": 215,
     "metadata": {},
     "output_type": "execute_result"
    }
   ],
   "source": [
    "percentage_discount_low_importance"
   ]
  },
  {
   "cell_type": "code",
   "execution_count": 216,
   "id": "4c18760b-fa55-44fc-891d-9bfae0de71af",
   "metadata": {},
   "outputs": [],
   "source": [
    "prod_importance_percentage_discount_dict = dict(High=percentage_discount_high_importance, Medium=percentage_discount_medium_importance,\\\n",
    "                                                           Low=percentage_discount_low_importance)"
   ]
  },
  {
   "cell_type": "code",
   "execution_count": 217,
   "id": "bd9f7807-fca4-4710-87d7-876270868b46",
   "metadata": {},
   "outputs": [
    {
     "data": {
      "text/plain": [
       "[Text(0.5, 0, 'Product Importance'),\n",
       " Text(0, 0.5, 'Percentage Discount offered'),\n",
       " Text(0.5, 1.0, 'Discount offered based on Product Importance')]"
      ]
     },
     "execution_count": 217,
     "metadata": {},
     "output_type": "execute_result"
    },
    {
     "data": {
      "image/png": "[encoded data removed]",
      "text/plain": [
       "<Figure size 640x480 with 1 Axes>"
      ]
     },
     "metadata": {},
     "output_type": "display_data"
    }
   ],
   "source": [
    "sns.barplot(data=prod_importance_percentage_discount_dict, color='indigo').set(xlabel='Product Importance', ylabel='Percentage Discount offered',\\\n",
    "                                                                                title='Discount offered based on Product Importance')"
   ]
  },
  {
   "cell_type": "code",
   "execution_count": 218,
   "id": "1debb10d-af77-46fc-bb5b-5b95ec95c2f9",
   "metadata": {},
   "outputs": [],
   "source": [
    "product_importance_revenue_dict = dict(High=high_importance_prods_revenue, Medium=medium_importance_prods_revenue,\\\n",
    "                                                           Low=low_importance_prods_revenue)"
   ]
  },
  {
   "cell_type": "code",
   "execution_count": 220,
   "id": "f3620c46-079f-4725-adea-30c0b25d785c",
   "metadata": {},
   "outputs": [
    {
     "data": {
      "text/plain": [
       "[Text(0.5, 0, 'Product Importance'),\n",
       " Text(0, 0.5, 'Total Revenue ($ Million)'),\n",
       " Text(0.5, 1.0, 'Revenue Share based on Product Importance')]"
      ]
     },
     "execution_count": 220,
     "metadata": {},
     "output_type": "execute_result"
    },
    {
     "data": {
      "image/png": "[encoded data removed]",
      "text/plain": [
       "<Figure size 640x480 with 1 Axes>"
      ]
     },
     "metadata": {},
     "output_type": "display_data"
    }
   ],
   "source": [
    "sns.barplot(data=product_importance_revenue_dict, color='indigo').set(xlabel='Product Importance', ylabel='Total Revenue ($ Million)',\\\n",
    "                                                                        title='Revenue Share based on Product Importance')"
   ]
  },
  {
   "cell_type": "code",
   "execution_count": null,
   "id": "1b5d544d-f752-49d3-ae85-3bea2d67cb66",
   "metadata": {},
   "outputs": [],
   "source": []
  }
 ],
 "metadata": {
  "kernelspec": {
   "display_name": "Python 3 (ipykernel)",
   "language": "python",
   "name": "python3"
  },
  "language_info": {
   "codemirror_mode": {
    "name": "ipython",
    "version": 3
   },
   "file_extension": ".py",
   "mimetype": "text/x-python",
   "name": "python",
   "nbconvert_exporter": "python",
   "pygments_lexer": "ipython3",
   "version": "3.11.4"
  }
 },
 "nbformat": 4,
 "nbformat_minor": 5
}
